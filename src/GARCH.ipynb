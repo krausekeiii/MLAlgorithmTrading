{
 "cells": [
  {
   "cell_type": "code",
   "execution_count": 1,
   "id": "25190fcc",
   "metadata": {},
   "outputs": [
    {
     "ename": "ModuleNotFoundError",
     "evalue": "No module named 'arch'",
     "output_type": "error",
     "traceback": [
      "\u001b[1;31m---------------------------------------------------------------------------\u001b[0m",
      "\u001b[1;31mModuleNotFoundError\u001b[0m                       Traceback (most recent call last)",
      "Cell \u001b[1;32mIn[1], line 8\u001b[0m\n\u001b[0;32m      6\u001b[0m \u001b[38;5;28;01mfrom\u001b[39;00m \u001b[38;5;21;01msklearn\u001b[39;00m \u001b[38;5;28;01mimport\u001b[39;00m datasets\n\u001b[0;32m      7\u001b[0m \u001b[38;5;28;01mimport\u001b[39;00m \u001b[38;5;21;01mos\u001b[39;00m\n\u001b[1;32m----> 8\u001b[0m \u001b[38;5;28;01mfrom\u001b[39;00m \u001b[38;5;21;01march\u001b[39;00m \u001b[38;5;28;01mimport\u001b[39;00m arch_model\n\u001b[0;32m      9\u001b[0m \u001b[38;5;28;01mfrom\u001b[39;00m \u001b[38;5;21;01mstatsmodels\u001b[39;00m\u001b[38;5;21;01m.\u001b[39;00m\u001b[38;5;21;01mgraphics\u001b[39;00m\u001b[38;5;21;01m.\u001b[39;00m\u001b[38;5;21;01mtsaplots\u001b[39;00m \u001b[38;5;28;01mimport\u001b[39;00m plot_acf, plot_pacf\n\u001b[0;32m     10\u001b[0m \u001b[38;5;28;01mfrom\u001b[39;00m \u001b[38;5;21;01mstatsmodels\u001b[39;00m\u001b[38;5;21;01m.\u001b[39;00m\u001b[38;5;21;01mtsa\u001b[39;00m\u001b[38;5;21;01m.\u001b[39;00m\u001b[38;5;21;01marima\u001b[39;00m\u001b[38;5;21;01m.\u001b[39;00m\u001b[38;5;21;01mmodel\u001b[39;00m \u001b[38;5;28;01mimport\u001b[39;00m ARIMA\n",
      "\u001b[1;31mModuleNotFoundError\u001b[0m: No module named 'arch'"
     ]
    }
   ],
   "source": [
    "import pandas as pd\n",
    "from datetime import datetime, timedelta\n",
    "import numpy as np\n",
    "import matplotlib.pyplot as plt\n",
    "import seaborn as sns\n",
    "from sklearn import datasets\n",
    "import os\n",
    "from arch import arch_model\n",
    "from statsmodels.graphics.tsaplots import plot_acf, plot_pacf"
   ]
  },
  {
   "cell_type": "code",
   "execution_count": null,
   "id": "7aa57e0c",
   "metadata": {},
   "outputs": [],
   "source": [
    "# Read the CSV file\n",
    "data = pd.read_csv('prices.csv')"
   ]
  },
  {
   "cell_type": "code",
   "execution_count": null,
   "id": "94cde5ef-6371-400a-afdf-71688179a61e",
   "metadata": {},
   "outputs": [],
   "source": [
    "#function to calculate volatility for every timestamp of a particular ticker\n",
    "def rolling_preds(tickerdata):\n",
    "    roll_preds = []\n",
    "    test_size = len(tickerdata)\n",
    "\n",
    "    for i in range(test_size):\n",
    "        train = tickerdata['returns'][:i+1]\n",
    "        #print(\"train:\", train)  # Add this line for debugging\n",
    "        model = arch_model(train, p = 2, q = 1)\n",
    "        model_fit = model.fit(disp='off')\n",
    "        pred = model_fit.forecast(horizon=1)\n",
    "        roll_preds.append(np.sqrt(pred.variance.values[-1,:][0]))\n",
    "        \n",
    "    return roll_preds\n",
    "\n",
    "#function to calculate volatility at every time stamp for every ticker\n",
    "def predict_volatility_for_ticker(data):\n",
    "    # group data by ticker symbol\n",
    "    grouped_data = data.groupby('symbol')\n",
    "    for ticker, ticker_data in grouped_data:\n",
    "        print(\"TICKER: \", ticker)\n",
    "        # Generate rolling volatility predictions\n",
    "        predictions = rolling_preds(ticker_data)\n",
    "        # Add predictions to DataFrame\n",
    "        data['forecasted_volatility'] = predictions\n",
    "        \n",
    "        print(\"Forecasted Volatility for\", ticker, \":\", predictions)\n",
    "    return data"
   ]
  },
  {
   "cell_type": "code",
   "execution_count": 2,
   "id": "cd2f77f8-4297-4756-b0c3-be78543df922",
   "metadata": {},
   "outputs": [
    {
     "ename": "NameError",
     "evalue": "name 'data' is not defined",
     "output_type": "error",
     "traceback": [
      "\u001b[1;31m---------------------------------------------------------------------------\u001b[0m",
      "\u001b[1;31mNameError\u001b[0m                                 Traceback (most recent call last)",
      "Cell \u001b[1;32mIn[2], line 1\u001b[0m\n\u001b[1;32m----> 1\u001b[0m data[\u001b[38;5;124m'\u001b[39m\u001b[38;5;124mreturns\u001b[39m\u001b[38;5;124m'\u001b[39m] \u001b[38;5;241m=\u001b[39m ((data\u001b[38;5;241m.\u001b[39mclose \u001b[38;5;241m-\u001b[39m data\u001b[38;5;241m.\u001b[39mopen) \u001b[38;5;241m/\u001b[39m data\u001b[38;5;241m.\u001b[39mopen) \u001b[38;5;241m*\u001b[39m \u001b[38;5;241m100\u001b[39m\n\u001b[0;32m      2\u001b[0m data \u001b[38;5;241m=\u001b[39m predict_volatility_for_ticker(data[data[\u001b[38;5;124m'\u001b[39m\u001b[38;5;124msymbol\u001b[39m\u001b[38;5;124m'\u001b[39m] \u001b[38;5;241m==\u001b[39m \u001b[38;5;124m'\u001b[39m\u001b[38;5;124mNFLX\u001b[39m\u001b[38;5;124m'\u001b[39m])\n",
      "\u001b[1;31mNameError\u001b[0m: name 'data' is not defined"
     ]
    }
   ],
   "source": [
    "data['returns'] = ((data.close - data.open) / data.open) * 100\n",
    "data = predict_volatility_for_ticker(data[data['symbol'] == 'NFLX']) #computation of all options could take hour, using just AAPL for demo purposes"
   ]
  },
  {
   "cell_type": "code",
   "execution_count": 6,
   "id": "5bb4f1f8-76b2-4656-a986-20bae641a1e2",
   "metadata": {},
   "outputs": [
    {
     "data": {
      "text/html": [
       "<div>\n",
       "<style scoped>\n",
       "    .dataframe tbody tr th:only-of-type {\n",
       "        vertical-align: middle;\n",
       "    }\n",
       "\n",
       "    .dataframe tbody tr th {\n",
       "        vertical-align: top;\n",
       "    }\n",
       "\n",
       "    .dataframe thead th {\n",
       "        text-align: right;\n",
       "    }\n",
       "</style>\n",
       "<table border=\"1\" class=\"dataframe\">\n",
       "  <thead>\n",
       "    <tr style=\"text-align: right;\">\n",
       "      <th></th>\n",
       "      <th>date</th>\n",
       "      <th>symbol</th>\n",
       "      <th>open</th>\n",
       "      <th>close</th>\n",
       "      <th>low</th>\n",
       "      <th>high</th>\n",
       "      <th>volume</th>\n",
       "      <th>returns</th>\n",
       "      <th>forecasted_volatility</th>\n",
       "    </tr>\n",
       "  </thead>\n",
       "  <tbody>\n",
       "    <tr>\n",
       "      <th>254</th>\n",
       "      <td>2010-01-04</td>\n",
       "      <td>AAPL</td>\n",
       "      <td>213.429998</td>\n",
       "      <td>214.009998</td>\n",
       "      <td>212.380001</td>\n",
       "      <td>214.499996</td>\n",
       "      <td>123432400.0</td>\n",
       "      <td>0.271752</td>\n",
       "      <td>0.000000</td>\n",
       "    </tr>\n",
       "    <tr>\n",
       "      <th>721</th>\n",
       "      <td>2010-01-05</td>\n",
       "      <td>AAPL</td>\n",
       "      <td>214.599998</td>\n",
       "      <td>214.379993</td>\n",
       "      <td>213.249994</td>\n",
       "      <td>215.589994</td>\n",
       "      <td>150476200.0</td>\n",
       "      <td>-0.102519</td>\n",
       "      <td>0.187135</td>\n",
       "    </tr>\n",
       "    <tr>\n",
       "      <th>1189</th>\n",
       "      <td>2010-01-06</td>\n",
       "      <td>AAPL</td>\n",
       "      <td>214.379993</td>\n",
       "      <td>210.969995</td>\n",
       "      <td>210.750004</td>\n",
       "      <td>215.230000</td>\n",
       "      <td>138040000.0</td>\n",
       "      <td>-1.590633</td>\n",
       "      <td>0.912835</td>\n",
       "    </tr>\n",
       "    <tr>\n",
       "      <th>1657</th>\n",
       "      <td>2010-01-07</td>\n",
       "      <td>AAPL</td>\n",
       "      <td>211.750000</td>\n",
       "      <td>210.580000</td>\n",
       "      <td>209.050005</td>\n",
       "      <td>212.000006</td>\n",
       "      <td>119282800.0</td>\n",
       "      <td>-0.552538</td>\n",
       "      <td>1.094894</td>\n",
       "    </tr>\n",
       "    <tr>\n",
       "      <th>2125</th>\n",
       "      <td>2010-01-08</td>\n",
       "      <td>AAPL</td>\n",
       "      <td>210.299994</td>\n",
       "      <td>211.980005</td>\n",
       "      <td>209.060005</td>\n",
       "      <td>212.000006</td>\n",
       "      <td>111902700.0</td>\n",
       "      <td>0.798864</td>\n",
       "      <td>0.104925</td>\n",
       "    </tr>\n",
       "    <tr>\n",
       "      <th>...</th>\n",
       "      <td>...</td>\n",
       "      <td>...</td>\n",
       "      <td>...</td>\n",
       "      <td>...</td>\n",
       "      <td>...</td>\n",
       "      <td>...</td>\n",
       "      <td>...</td>\n",
       "      <td>...</td>\n",
       "      <td>...</td>\n",
       "    </tr>\n",
       "    <tr>\n",
       "      <th>848767</th>\n",
       "      <td>2016-12-23</td>\n",
       "      <td>AAPL</td>\n",
       "      <td>115.589996</td>\n",
       "      <td>116.519997</td>\n",
       "      <td>115.589996</td>\n",
       "      <td>116.519997</td>\n",
       "      <td>14249500.0</td>\n",
       "      <td>0.804569</td>\n",
       "      <td>0.955365</td>\n",
       "    </tr>\n",
       "    <tr>\n",
       "      <th>849267</th>\n",
       "      <td>2016-12-27</td>\n",
       "      <td>AAPL</td>\n",
       "      <td>116.519997</td>\n",
       "      <td>117.260002</td>\n",
       "      <td>116.489998</td>\n",
       "      <td>117.800003</td>\n",
       "      <td>18296900.0</td>\n",
       "      <td>0.635088</td>\n",
       "      <td>0.950273</td>\n",
       "    </tr>\n",
       "    <tr>\n",
       "      <th>849767</th>\n",
       "      <td>2016-12-28</td>\n",
       "      <td>AAPL</td>\n",
       "      <td>117.519997</td>\n",
       "      <td>116.760002</td>\n",
       "      <td>116.199997</td>\n",
       "      <td>118.019997</td>\n",
       "      <td>20905900.0</td>\n",
       "      <td>-0.646694</td>\n",
       "      <td>0.949414</td>\n",
       "    </tr>\n",
       "    <tr>\n",
       "      <th>850267</th>\n",
       "      <td>2016-12-29</td>\n",
       "      <td>AAPL</td>\n",
       "      <td>116.449997</td>\n",
       "      <td>116.730003</td>\n",
       "      <td>116.400002</td>\n",
       "      <td>117.110001</td>\n",
       "      <td>15039500.0</td>\n",
       "      <td>0.240452</td>\n",
       "      <td>0.927292</td>\n",
       "    </tr>\n",
       "    <tr>\n",
       "      <th>850767</th>\n",
       "      <td>2016-12-30</td>\n",
       "      <td>AAPL</td>\n",
       "      <td>116.650002</td>\n",
       "      <td>115.820000</td>\n",
       "      <td>115.430000</td>\n",
       "      <td>117.199997</td>\n",
       "      <td>30586300.0</td>\n",
       "      <td>-0.711532</td>\n",
       "      <td>0.934355</td>\n",
       "    </tr>\n",
       "  </tbody>\n",
       "</table>\n",
       "<p>1762 rows × 9 columns</p>\n",
       "</div>"
      ],
      "text/plain": [
       "              date symbol        open       close         low        high  \\\n",
       "254     2010-01-04   AAPL  213.429998  214.009998  212.380001  214.499996   \n",
       "721     2010-01-05   AAPL  214.599998  214.379993  213.249994  215.589994   \n",
       "1189    2010-01-06   AAPL  214.379993  210.969995  210.750004  215.230000   \n",
       "1657    2010-01-07   AAPL  211.750000  210.580000  209.050005  212.000006   \n",
       "2125    2010-01-08   AAPL  210.299994  211.980005  209.060005  212.000006   \n",
       "...            ...    ...         ...         ...         ...         ...   \n",
       "848767  2016-12-23   AAPL  115.589996  116.519997  115.589996  116.519997   \n",
       "849267  2016-12-27   AAPL  116.519997  117.260002  116.489998  117.800003   \n",
       "849767  2016-12-28   AAPL  117.519997  116.760002  116.199997  118.019997   \n",
       "850267  2016-12-29   AAPL  116.449997  116.730003  116.400002  117.110001   \n",
       "850767  2016-12-30   AAPL  116.650002  115.820000  115.430000  117.199997   \n",
       "\n",
       "             volume   returns  forecasted_volatility  \n",
       "254     123432400.0  0.271752               0.000000  \n",
       "721     150476200.0 -0.102519               0.187135  \n",
       "1189    138040000.0 -1.590633               0.912835  \n",
       "1657    119282800.0 -0.552538               1.094894  \n",
       "2125    111902700.0  0.798864               0.104925  \n",
       "...             ...       ...                    ...  \n",
       "848767   14249500.0  0.804569               0.955365  \n",
       "849267   18296900.0  0.635088               0.950273  \n",
       "849767   20905900.0 -0.646694               0.949414  \n",
       "850267   15039500.0  0.240452               0.927292  \n",
       "850767   30586300.0 -0.711532               0.934355  \n",
       "\n",
       "[1762 rows x 9 columns]"
      ]
     },
     "execution_count": 6,
     "metadata": {},
     "output_type": "execute_result"
    }
   ],
   "source": [
    "data"
   ]
  },
  {
   "cell_type": "code",
   "execution_count": 7,
   "id": "577d0e08-792b-402e-8644-f95a06054890",
   "metadata": {},
   "outputs": [
    {
     "data": {
      "text/plain": [
       "<Figure size 1500x800 with 0 Axes>"
      ]
     },
     "execution_count": 7,
     "metadata": {},
     "output_type": "execute_result"
    },
    {
     "data": {
      "image/png": "[encoded data removed]",
      "text/plain": [
       "<Figure size 640x480 with 1 Axes>"
      ]
     },
     "metadata": {},
     "output_type": "display_data"
    },
    {
     "data": {
      "text/plain": [
       "<Figure size 1500x800 with 0 Axes>"
      ]
     },
     "metadata": {},
     "output_type": "display_data"
    }
   ],
   "source": [
    "dates = pd.to_datetime(data['date'], format='%Y-%m-%d')\n",
    "true,= plt.plot(dates, data['returns'])\n",
    "preds,=plt.plot(dates, data['forecasted_volatility'])\n",
    "plt.title('Volatility Prediction- Rolling Forecast').set_fontsize(11)\n",
    "plt.legend(['True Returns', 'Predicted Volatility'])\n",
    "plt.gcf().autofmt_xdate()  # Rotate x-axis labels for better visibility\n",
    "plt.gca().xaxis.set_major_formatter(plt.matplotlib.dates.DateFormatter('%Y-%m-%d'))  # Format date as 'YYYY-MM-DD'\n",
    "plt.figure(figsize=(15,8))"
   ]
  },
  {
   "cell_type": "code",
   "execution_count": 9,
   "id": "c7154226-0f86-42bb-b231-a3629697d605",
   "metadata": {},
   "outputs": [],
   "source": [
    "data.to_csv('data_AAPL_GARCH.csv', encoding='utf-8', index=False)"
   ]
  },
  {
   "cell_type": "code",
   "execution_count": null,
   "id": "49c1169b-4085-4657-8e6e-9da509233d67",
   "metadata": {},
   "outputs": [],
   "source": []
  }
 ],
 "metadata": {
  "kernelspec": {
   "display_name": "Python 3 (ipykernel)",
   "language": "python",
   "name": "python3"
  },
  "language_info": {
   "codemirror_mode": {
    "name": "ipython",
    "version": 3
   },
   "file_extension": ".py",
   "mimetype": "text/x-python",
   "name": "python",
   "nbconvert_exporter": "python",
   "pygments_lexer": "ipython3",
   "version": "3.11.5"
  }
 },
 "nbformat": 4,
 "nbformat_minor": 5
}
